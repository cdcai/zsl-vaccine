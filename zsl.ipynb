{
 "cells": [
  {
   "cell_type": "markdown",
   "id": "836bdf55",
   "metadata": {},
   "source": [
    "# Identifying and classifying v-safe free-text responses related to menstruation or vaginal bleeding after COVID-19 vaccination"
   ]
  },
  {
   "cell_type": "markdown",
   "id": "549d7645",
   "metadata": {},
   "source": [
    "This notebook contains code for data pre-processing, filtering by search strings, and zero-shot classification. Zero-shot classification code is adapted from https://huggingface.co/facebook/bart-large-mnli."
   ]
  },
  {
   "cell_type": "code",
   "execution_count": null,
   "id": "38ae6ec8",
   "metadata": {},
   "outputs": [],
   "source": [
    "from transformers import pipeline\n",
    "import torch\n",
    "import numpy as np\n",
    "import pandas as pd\n",
    "import pickle\n",
    "import ast\n",
    "import re\n",
    "from tqdm import tqdm\n",
    "import csv\n",
    "from ftfy import fix_encoding"
   ]
  },
  {
   "cell_type": "markdown",
   "id": "7834e4e1",
   "metadata": {},
   "source": [
    "## Import data"
   ]
  },
  {
   "cell_type": "code",
   "execution_count": null,
   "id": "88bf7f6a",
   "metadata": {},
   "outputs": [],
   "source": [
    "chk = pd.read_csv(\"chkin_0109.csv\")\n",
    "chk[\"sx_txt\"] = chk[\"sx_txt\"].apply(lambda x: fix_encoding(x)).apply(lambda x: x.strip())"
   ]
  },
  {
   "cell_type": "markdown",
   "id": "d4fdd952",
   "metadata": {},
   "source": [
    "## Filter text by search strings"
   ]
  },
  {
   "cell_type": "code",
   "execution_count": null,
   "id": "b20baacd",
   "metadata": {},
   "outputs": [],
   "source": [
    "crit1 = r'menses|menst|spotting|period(s\\b|\\b)|\\bcycle|\\bmiscarr|menorrh|metrorrh'\n",
    "crit2 = r'bleed|blood'\n",
    "crit3 = r'menop|\\bpreg|\\buter|hyster|placent|\\bvag|breakthrough|(break through)|endomet|\\bgest|term\\b|trimester'"
   ]
  },
  {
   "cell_type": "code",
   "execution_count": null,
   "id": "754f3102",
   "metadata": {},
   "outputs": [],
   "source": [
    "kwfilter = chk[\"sx_txt\"].apply(lambda x: x.lower()).apply(lambda x: bool(re.search(crit1, x)) or (bool(re.search(crit2, x) and bool(re.search(crit3, x)))))"
   ]
  },
  {
   "cell_type": "code",
   "execution_count": null,
   "id": "1bb8fd6f",
   "metadata": {},
   "outputs": [],
   "source": [
    "mens_txt = chk[kwfilter].reset_index()"
   ]
  },
  {
   "cell_type": "markdown",
   "id": "d1cd45c8",
   "metadata": {},
   "source": [
    "## Zero-shot classification"
   ]
  },
  {
   "cell_type": "code",
   "execution_count": null,
   "id": "9faf0201",
   "metadata": {},
   "outputs": [],
   "source": [
    "classifier = pipeline('zero-shot-classification', model='facebook/bart-large-mnli', device=0)"
   ]
  },
  {
   "cell_type": "code",
   "execution_count": null,
   "id": "d1fc2911",
   "metadata": {},
   "outputs": [],
   "source": [
    "topics = ['This mentions a period that came early', \n",
    "          'This mentions menstruation', \n",
    "          'This mentions a period that came late', \n",
    "          'This mentions spotting', \n",
    "          'This mentions a heavy menstrual period',\n",
    "          'This mentions vaginal bleeding', \n",
    "          'This mentions uterine bleeding', \n",
    "          'This mentions a painful menstrual period', \n",
    "          'This mentions prolonged bleeding specifically', \n",
    "          'This mentions an irregular period specifically', \n",
    "          'This specifically mentions missing or skipping a period', \n",
    "          'This mentions not having a period for years']\n",
    "\n",
    "core_top = ['This mentions menstruation',\n",
    " 'This mentions spotting',\n",
    " 'This mentions vaginal bleeding',\n",
    " 'This mentions uterine bleeding',\n",
    " 'This specifically mentions missing or skipping a period']\n",
    "\n",
    "timing_top = ['This mentions a period that came early',\n",
    " 'This mentions a period that came late',\n",
    " 'This mentions spotting',\n",
    " 'This mentions an irregular period specifically',\n",
    " 'This specifically mentions missing or skipping a period']\n",
    "\n",
    "severe_top = ['This mentions a heavy menstrual period',\n",
    " 'This mentions a painful menstrual period',\n",
    " 'This mentions prolonged bleeding specifically']\n",
    "\n",
    "yrs_top = ['This mentions not having a period for years']"
   ]
  },
  {
   "cell_type": "code",
   "execution_count": null,
   "id": "1a471e70",
   "metadata": {},
   "outputs": [],
   "source": [
    "res = classifier(mens_txt[\"sx_txt\"], topics, multi_label=True)"
   ]
  },
  {
   "cell_type": "code",
   "execution_count": null,
   "id": "64e6a7e2",
   "metadata": {},
   "outputs": [],
   "source": []
  }
 ],
 "metadata": {
  "kernelspec": {
   "display_name": "Python 3 (ipykernel)",
   "language": "python",
   "name": "python3"
  },
  "language_info": {
   "codemirror_mode": {
    "name": "ipython",
    "version": 3
   },
   "file_extension": ".py",
   "mimetype": "text/x-python",
   "name": "python",
   "nbconvert_exporter": "python",
   "pygments_lexer": "ipython3",
   "version": "3.7.8"
  },
  "toc": {
   "base_numbering": 1,
   "nav_menu": {},
   "number_sections": true,
   "sideBar": true,
   "skip_h1_title": false,
   "title_cell": "Table of Contents",
   "title_sidebar": "Contents",
   "toc_cell": false,
   "toc_position": {},
   "toc_section_display": true,
   "toc_window_display": false
  }
 },
 "nbformat": 4,
 "nbformat_minor": 5
}
